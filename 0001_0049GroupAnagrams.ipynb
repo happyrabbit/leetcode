{
  "nbformat": 4,
  "nbformat_minor": 0,
  "metadata": {
    "colab": {
      "name": "0001_0049GroupAnagrams.ipynb",
      "provenance": [],
      "authorship_tag": "ABX9TyPaBRItfZIxeFj+sulXmy+Y",
      "include_colab_link": true
    },
    "kernelspec": {
      "name": "python3",
      "display_name": "Python 3"
    }
  },
  "cells": [
    {
      "cell_type": "markdown",
      "metadata": {
        "id": "view-in-github",
        "colab_type": "text"
      },
      "source": [
        "<a href=\"https://colab.research.google.com/github/happyrabbit/leetcode/blob/master/0001_0049GroupAnagrams.ipynb\" target=\"_parent\"><img src=\"https://colab.research.google.com/assets/colab-badge.svg\" alt=\"Open In Colab\"/></a>"
      ]
    },
    {
      "cell_type": "markdown",
      "metadata": {
        "id": "1fda45UhEB71",
        "colab_type": "text"
      },
      "source": [
        "# Given an array of strings, group anagrams together\n",
        "\n",
        "Example:\n",
        "```\n",
        "Input: [\"eat\", \"tea\", \"tan\", \"ate\", \"nat\", \"bat\"],\n",
        "Output:\n",
        "[\n",
        "  [\"ate\",\"eat\",\"tea\"],\n",
        "  [\"nat\",\"tan\"],\n",
        "  [\"bat\"]\n",
        "]\n",
        "```\n",
        "Note:\n",
        "\n",
        "All inputs will be in lowercase.\n",
        "The order of your output does not matter."
      ]
    },
    {
      "cell_type": "code",
      "metadata": {
        "id": "Z1cMbMW0WVXW",
        "colab_type": "code",
        "colab": {}
      },
      "source": [
        "# solution 1\n",
        "class Solution:\n",
        "    def groupAnagrams(self, strs: List[str]) -> List[List[str]]:\n",
        "        chars = []\n",
        "        for i in range(len(strs)):\n",
        "            res = [s for s in strs[i]]\n",
        "            res.sort()\n",
        "            chars.append(''.join(res))\n",
        "\n",
        "        res_list = []\n",
        "        for s in set(chars):\n",
        "            ele = []\n",
        "            for k in range(len(chars)):\n",
        "                if chars[k] == s:\n",
        "                    ele.append(strs[k])\n",
        "            res_list.append(ele)\n",
        "        return(res_list)  "
      ],
      "execution_count": 0,
      "outputs": []
    },
    {
      "cell_type": "code",
      "metadata": {
        "id": "XQeV-dvPWbm0",
        "colab_type": "code",
        "colab": {}
      },
      "source": [
        "# solution 2\n",
        "class Solution:\n",
        "  def groupAnagrams(self, strs: 'List[str]' ) -> 'List[List[str]]':\n",
        "    m = {}\n",
        "    for s in strs:\n",
        "      l = list(s)\n",
        "      l.sort()\n",
        "      l = ''.join()\n",
        "      if l not in m:\n",
        "        m[l] = [s]\n",
        "      else:\n",
        "        m[l].append(s)\n",
        "    return [m[k] for k in m]"
      ],
      "execution_count": 0,
      "outputs": []
    }
  ]
}