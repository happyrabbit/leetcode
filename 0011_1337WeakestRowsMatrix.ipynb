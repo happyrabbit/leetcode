{
  "nbformat": 4,
  "nbformat_minor": 0,
  "metadata": {
    "colab": {
      "name": "0011_1337WeakestRowsMatrix.ipynb",
      "provenance": [],
      "authorship_tag": "ABX9TyPCSmr/huEqHQ+R/Ect7Z3M",
      "include_colab_link": true
    },
    "kernelspec": {
      "name": "python3",
      "display_name": "Python 3"
    }
  },
  "cells": [
    {
      "cell_type": "markdown",
      "metadata": {
        "id": "view-in-github",
        "colab_type": "text"
      },
      "source": [
        "<a href=\"https://colab.research.google.com/github/happyrabbit/leetcode/blob/master/0011_1337WeakestRowsMatrix.ipynb\" target=\"_parent\"><img src=\"https://colab.research.google.com/assets/colab-badge.svg\" alt=\"Open In Colab\"/></a>"
      ]
    },
    {
      "cell_type": "markdown",
      "metadata": {
        "id": "qk6qCXXhgBAt",
        "colab_type": "text"
      },
      "source": [
        "# The K Weakest Rows in a Matrix\n",
        "\n",
        "Given a `m * n` matrix mat of ones (representing soldiers) and zeros (representing civilians), return the indexes of the `k` weakest rows in the matrix ordered from the weakest to the strongest.\n",
        "\n",
        "A row `i` is weaker than row `j`, if the number of soldiers in row `i` is less than the number of soldiers in row `j`, or they have the same number of soldiers but `i` is less than `j`. Soldiers are always stand in the frontier of a row, that is, always ones may appear first and then zeros.\n",
        "\n",
        " \n",
        "```\n",
        "Example 1:\n",
        "\n",
        "Input: mat = \n",
        "[[1,1,0,0,0],\n",
        " [1,1,1,1,0],\n",
        " [1,0,0,0,0],\n",
        " [1,1,0,0,0],\n",
        " [1,1,1,1,1]], \n",
        "k = 3\n",
        "Output: [2,0,3]\n",
        "\n",
        "Explanation: \n",
        "The number of soldiers for each row is: \n",
        "row 0 -> 2 \n",
        "row 1 -> 4 \n",
        "row 2 -> 1 \n",
        "row 3 -> 2 \n",
        "row 4 -> 5 \n",
        "Rows ordered from the weakest to the strongest are [2,0,3,1,4]\n",
        "```\n",
        "\n",
        "```\n",
        "Example 2:\n",
        "\n",
        "Input: mat = \n",
        "[[1,0,0,0],\n",
        " [1,1,1,1],\n",
        " [1,0,0,0],\n",
        " [1,0,0,0]], \n",
        "k = 2\n",
        "Output: [0,2]\n",
        "Explanation: \n",
        "The number of soldiers for each row is: \n",
        "row 0 -> 1 \n",
        "row 1 -> 4 \n",
        "row 2 -> 1 \n",
        "row 3 -> 1 \n",
        "Rows ordered from the weakest to the strongest are [0,2,3,1]\n",
        "``` \n",
        "\n",
        "Constraints:\n",
        "\n",
        "- `m == mat.length`\n",
        "- `n == mat[i].length`\n",
        "- `2 <= n, m <= 100`\n",
        "- `1 <= k <= m`\n",
        "- `matrix[i][j]` is either `0` or `1`."
      ]
    },
    {
      "cell_type": "code",
      "metadata": {
        "id": "0erMpe15erVC",
        "colab_type": "code",
        "colab": {}
      },
      "source": [
        "class Solution:\n",
        "    def kWeakestRows(self, mat: List[List[int]], k: int) -> List[int]:\n",
        "        res = [[sum(g), i] for i,g in enumerate(mat) ] \n",
        "        sorted_res = sorted(res)\n",
        "        return([sorted_res[i][1] for i in range(k)])"
      ],
      "execution_count": 0,
      "outputs": []
    }
  ]
}