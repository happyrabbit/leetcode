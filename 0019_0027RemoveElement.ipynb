{
  "nbformat": 4,
  "nbformat_minor": 0,
  "metadata": {
    "colab": {
      "name": "0019_0027RemoveElement.ipynb",
      "provenance": [],
      "authorship_tag": "ABX9TyM/RmMhFErnNiTs9lk6mdeq",
      "include_colab_link": true
    },
    "kernelspec": {
      "name": "python3",
      "display_name": "Python 3"
    }
  },
  "cells": [
    {
      "cell_type": "markdown",
      "metadata": {
        "id": "view-in-github",
        "colab_type": "text"
      },
      "source": [
        "<a href=\"https://colab.research.google.com/github/happyrabbit/leetcode/blob/master/0019_0027RemoveElement.ipynb\" target=\"_parent\"><img src=\"https://colab.research.google.com/assets/colab-badge.svg\" alt=\"Open In Colab\"/></a>"
      ]
    },
    {
      "cell_type": "markdown",
      "metadata": {
        "id": "t-CBLXU_e4ol",
        "colab_type": "text"
      },
      "source": [
        "# 27. Remove Element\n",
        "\n",
        "Given an array nums and a value val, remove all instances of that value in-place and return the new length.\n",
        "\n",
        "Do not allocate extra space for another array, you must do this by modifying the input array in-place with O(1) extra memory.\n",
        "\n",
        "The order of elements can be changed. It doesn't matter what you leave beyond the new length.\n",
        "\n",
        "Example 1:\n",
        "\n",
        "```\n",
        "Given nums = [3,2,2,3], val = 3,\n",
        "\n",
        "Your function should return length = 2, with the first two elements of nums being 2.\n",
        "\n",
        "It doesn't matter what you leave beyond the returned length.\n",
        "```\n",
        "\n",
        "Example 2:\n",
        "\n",
        "```\n",
        "Given nums = [0,1,2,2,3,0,4,2], val = 2,\n",
        "\n",
        "Your function should return length = 5, with the first five elements of nums containing 0, 1, 3, 0, and 4.\n",
        "\n",
        "Note that the order of those five elements can be arbitrary.\n",
        "\n",
        "It doesn't matter what values are set beyond the returned length.\n",
        "```\n",
        "\n",
        "Clarification:\n",
        "\n",
        "Confused why the returned value is an integer but your answer is an array?\n",
        "\n",
        "Note that the input array is passed in by reference, which means modification to the input array will be known to the caller as well.\n",
        "\n",
        "Internally you can think of this:\n",
        "\n",
        "```\n",
        "// nums is passed in by reference. (i.e., without making a copy)\n",
        "int len = removeElement(nums, val);\n",
        "\n",
        "// any modification to nums in your function would be known by the caller.\n",
        "// using the length returned by your function, it prints the first len elements.\n",
        "for (int i = 0; i < len; i++) {\n",
        "    print(nums[i]);\n",
        "}\n",
        "```"
      ]
    },
    {
      "cell_type": "code",
      "metadata": {
        "id": "8z45yMjCfOH1",
        "colab_type": "code",
        "colab": {}
      },
      "source": [
        "class Solution:\n",
        "    def removeElement(self, nums: List[int], val: int) -> int:\n",
        "        # use two pointers\n",
        "        p1 = 0\n",
        "        p2 = 0\n",
        "        while p2 <= len(nums)-1:\n",
        "            if nums[p2] == val:\n",
        "                p2 += 1\n",
        "            else:\n",
        "                nums[p1] = nums[p2]\n",
        "                p2 += 1\n",
        "                p1 += 1\n",
        "        return(p1)"
      ],
      "execution_count": 0,
      "outputs": []
    }
  ]
}