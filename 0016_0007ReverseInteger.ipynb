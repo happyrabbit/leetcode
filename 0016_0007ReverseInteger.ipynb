{
  "nbformat": 4,
  "nbformat_minor": 0,
  "metadata": {
    "colab": {
      "name": "0016_0007ReverseInteger.ipynb",
      "provenance": [],
      "authorship_tag": "ABX9TyMKR2cSelwTE4XCMUn3yT9z",
      "include_colab_link": true
    },
    "kernelspec": {
      "name": "python3",
      "display_name": "Python 3"
    }
  },
  "cells": [
    {
      "cell_type": "markdown",
      "metadata": {
        "id": "view-in-github",
        "colab_type": "text"
      },
      "source": [
        "<a href=\"https://colab.research.google.com/github/happyrabbit/leetcode/blob/master/0016_0007ReverseInteger.ipynb\" target=\"_parent\"><img src=\"https://colab.research.google.com/assets/colab-badge.svg\" alt=\"Open In Colab\"/></a>"
      ]
    },
    {
      "cell_type": "markdown",
      "metadata": {
        "id": "QnF2lf4QZt3U",
        "colab_type": "text"
      },
      "source": [
        "# Reverse Integer\n",
        "\n",
        "Given a 32-bit signed integer, reverse digits of an integer.\n",
        "\n",
        "Example 1:\n",
        "```\n",
        "Input: 123\n",
        "Output: 321\n",
        "```\n",
        "Example 2:\n",
        "\n",
        "```\n",
        "Input: -123\n",
        "Output: -321\n",
        "```\n",
        "\n",
        "Example 3:\n",
        "\n",
        "```\n",
        "Input: 120\n",
        "Output: 21\n",
        "```\n",
        "\n",
        "Note:\n",
        "Assume we are dealing with an environment which could only store integers within the 32-bit signed integer range: $[−2^{31},  2^{31} − 1]$. For the purpose of this problem, assume that your function returns 0 when the reversed integer overflows."
      ]
    },
    {
      "cell_type": "code",
      "metadata": {
        "id": "Ftbg3RU5ZcxW",
        "colab_type": "code",
        "colab": {}
      },
      "source": [
        "class Solution:\n",
        "    def reverse(self, x: int) -> int:\n",
        "        # 123-> 321\n",
        "        rev = 0\n",
        "        int_max =  2**31-1 \n",
        "        int_min =  -2**31\n",
        "        if x == 0:\n",
        "            return 0\n",
        "        else:\n",
        "            sign_x = int(x/abs(x))\n",
        "            x = abs(x)\n",
        "            while x != 0:\n",
        "                pop = x%10\n",
        "                x = x//10\n",
        "                rev = rev*10 + pop\n",
        "            if rev > int_max or rev < int_min:\n",
        "                return 0\n",
        "            else:\n",
        "                return sign_x*rev"
      ],
      "execution_count": 0,
      "outputs": []
    }
  ]
}