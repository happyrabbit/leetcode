{
  "nbformat": 4,
  "nbformat_minor": 0,
  "metadata": {
    "colab": {
      "name": "0012_0033SearchRotatedSortedArray.ipynb",
      "provenance": [],
      "authorship_tag": "ABX9TyM3XxB7VjbS5XvvfHEMNAeu",
      "include_colab_link": true
    },
    "kernelspec": {
      "name": "python3",
      "display_name": "Python 3"
    }
  },
  "cells": [
    {
      "cell_type": "markdown",
      "metadata": {
        "id": "view-in-github",
        "colab_type": "text"
      },
      "source": [
        "<a href=\"https://colab.research.google.com/github/happyrabbit/leetcode/blob/master/0012_0033SearchRotatedSortedArray.ipynb\" target=\"_parent\"><img src=\"https://colab.research.google.com/assets/colab-badge.svg\" alt=\"Open In Colab\"/></a>"
      ]
    },
    {
      "cell_type": "markdown",
      "metadata": {
        "id": "XuBHs6y4I1jr",
        "colab_type": "text"
      },
      "source": [
        "# Search in Rotated Sorted Array\n",
        "Suppose an array sorted in ascending order is rotated at some pivot unknown to you beforehand.\n",
        "\n",
        "(i.e., `[0,1,2,4,5,6,7]` might become `[4,5,6,7,0,1,2]`).\n",
        "\n",
        "You are given a target value to search. If found in the array return its index, otherwise return -1.\n",
        "\n",
        "You may assume no duplicate exists in the array.\n",
        "\n",
        "Your algorithm's runtime complexity must be in the order of O(log n).\n",
        "\n",
        "Example 1:\n",
        "\n",
        "```\n",
        "Input: nums = [4,5,6,7,0,1,2], target = 0\n",
        "Output: 4\n",
        "```\n",
        "\n",
        "Example 2:\n",
        "\n",
        "```\n",
        "Input: nums = [4,5,6,7,0,1,2], target = 3\n",
        "Output: -1\n",
        "```"
      ]
    },
    {
      "cell_type": "code",
      "metadata": {
        "id": "8S-XxMJvIwMi",
        "colab_type": "code",
        "colab": {}
      },
      "source": [
        "class Solution:\n",
        "    def search(self, nums: List[int], target: int) -> int:\n",
        "        # [0,1,2,4,5,6,7]\n",
        "        # [7,0,1,2,4,5,6]\n",
        "        # [4,5,6,7,0,1,2]\n",
        "        # binary search\n",
        "        def helper(l,r):\n",
        "            if l > r:\n",
        "                return -1\n",
        "            m = (r+l)//2\n",
        "            if nums[m] == target:\n",
        "                return m\n",
        "            # follow left half if it is sorted and target is in its range\n",
        "            # or if right half is sorted but target is not in its range\n",
        "            if nums[l] <= target < nums[m] or (nums[m] <= nums[r]  and not nums[m] < target <= nums[r]):\n",
        "                return helper(l, m-1)\n",
        "            else: \n",
        "                return helper(m+1, r)\n",
        "        return helper(0,len(nums)-1)"
      ],
      "execution_count": 0,
      "outputs": []
    },
    {
      "cell_type": "code",
      "metadata": {
        "id": "-NBpuM9VI7tE",
        "colab_type": "code",
        "colab": {}
      },
      "source": [
        ""
      ],
      "execution_count": 0,
      "outputs": []
    }
  ]
}