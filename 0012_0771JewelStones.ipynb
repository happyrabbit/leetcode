{
  "nbformat": 4,
  "nbformat_minor": 0,
  "metadata": {
    "colab": {
      "name": "0012_0771JewelStones.ipynb",
      "provenance": [],
      "authorship_tag": "ABX9TyNuVf2N9QXIl8dygkaTmoIY",
      "include_colab_link": true
    },
    "kernelspec": {
      "name": "python3",
      "display_name": "Python 3"
    }
  },
  "cells": [
    {
      "cell_type": "markdown",
      "metadata": {
        "id": "view-in-github",
        "colab_type": "text"
      },
      "source": [
        "<a href=\"https://colab.research.google.com/github/happyrabbit/leetcode/blob/master/0012_0771JewelStones.ipynb\" target=\"_parent\"><img src=\"https://colab.research.google.com/assets/colab-badge.svg\" alt=\"Open In Colab\"/></a>"
      ]
    },
    {
      "cell_type": "markdown",
      "metadata": {
        "id": "a6z00W-QmvYj",
        "colab_type": "text"
      },
      "source": [
        "# Jewels and Stones\n",
        "\n",
        "You're given strings J representing the types of stones that are jewels, and S representing the stones you have.  Each character in S is a type of stone you have.  You want to know how many of the stones you have are also jewels.\n",
        "\n",
        "The letters in J are guaranteed distinct, and all characters in J and S are letters. Letters are case sensitive, so \"a\" is considered a different type of stone from \"A\".\n",
        "\n",
        "```\n",
        "Example 1:\n",
        "\n",
        "Input: J = \"aA\", S = \"aAAbbbb\"\n",
        "Output: 3\n",
        "```\n",
        "\n",
        "```\n",
        "Example 2:\n",
        "\n",
        "Input: J = \"z\", S = \"ZZ\"\n",
        "Output: 0\n",
        "```\n",
        "\n",
        "Note:\n",
        "\n",
        "- `S` and `J` will consist of letters and have length at most `50`.\n",
        "- The characters in `J` are distinct."
      ]
    },
    {
      "cell_type": "code",
      "metadata": {
        "id": "gr6yBLnKiBK1",
        "colab_type": "code",
        "colab": {}
      },
      "source": [
        "class Solution:\n",
        "    def numJewelsInStones(self, J: str, S: str) -> int:\n",
        "        ans = 0\n",
        "        for s in S:\n",
        "            if s in list(J):\n",
        "                ans += 1\n",
        "        return(ans)"
      ],
      "execution_count": 0,
      "outputs": []
    }
  ]
}