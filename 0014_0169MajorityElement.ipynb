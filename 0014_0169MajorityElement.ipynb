{
  "nbformat": 4,
  "nbformat_minor": 0,
  "metadata": {
    "colab": {
      "name": "0014_0169MajorityElement.ipynb",
      "provenance": [],
      "authorship_tag": "ABX9TyMEWJNrAceMejRBqOPCqqyU",
      "include_colab_link": true
    },
    "kernelspec": {
      "name": "python3",
      "display_name": "Python 3"
    }
  },
  "cells": [
    {
      "cell_type": "markdown",
      "metadata": {
        "id": "view-in-github",
        "colab_type": "text"
      },
      "source": [
        "<a href=\"https://colab.research.google.com/github/happyrabbit/leetcode/blob/master/0014_0169MajorityElement.ipynb\" target=\"_parent\"><img src=\"https://colab.research.google.com/assets/colab-badge.svg\" alt=\"Open In Colab\"/></a>"
      ]
    },
    {
      "cell_type": "markdown",
      "metadata": {
        "id": "WrIxKxtGid3C",
        "colab_type": "text"
      },
      "source": [
        "# Majority Element\n",
        "\n",
        "\n",
        "Given an array of size n, find the majority element. The majority element is the element that appears more than ⌊ n/2 ⌋ times.\n",
        "\n",
        "You may assume that the array is non-empty and the majority element always exist in the array.\n",
        "\n",
        "```\n",
        "Example 1:\n",
        "\n",
        "Input: [3,2,3]\n",
        "Output: 3\n",
        "```\n",
        "\n",
        "```\n",
        "Example 2:\n",
        "\n",
        "Input: [2,2,1,1,1,2,2]\n",
        "Output: 2\n",
        "```"
      ]
    },
    {
      "cell_type": "code",
      "metadata": {
        "id": "nOhtUx-6pBI5",
        "colab_type": "code",
        "colab": {}
      },
      "source": [
        "class Solution:\n",
        "    def majorityElement(self, nums: List[int]) -> int:\n",
        "        res = {}\n",
        "        cr = len(nums)/2\n",
        "        if cr < 1:\n",
        "            return(nums[0])\n",
        "        else:\n",
        "            for i in nums:\n",
        "                if i in res:\n",
        "                    res[i] += 1\n",
        "                    if res[i] > cr:\n",
        "                        return(i)\n",
        "                else:\n",
        "                    res[i] = 1"
      ],
      "execution_count": 0,
      "outputs": []
    }
  ]
}