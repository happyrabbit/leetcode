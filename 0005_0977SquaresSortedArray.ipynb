{
  "nbformat": 4,
  "nbformat_minor": 0,
  "metadata": {
    "colab": {
      "name": "0005_0977SquaresSortedArray.ipynb",
      "provenance": [],
      "authorship_tag": "ABX9TyPpTWhaJWGgqzRXtlA/Kocz",
      "include_colab_link": true
    },
    "kernelspec": {
      "name": "python3",
      "display_name": "Python 3"
    }
  },
  "cells": [
    {
      "cell_type": "markdown",
      "metadata": {
        "id": "view-in-github",
        "colab_type": "text"
      },
      "source": [
        "<a href=\"https://colab.research.google.com/github/happyrabbit/leetcode/blob/master/0005_0977SquaresSortedArray.ipynb\" target=\"_parent\"><img src=\"https://colab.research.google.com/assets/colab-badge.svg\" alt=\"Open In Colab\"/></a>"
      ]
    },
    {
      "cell_type": "markdown",
      "metadata": {
        "id": "nwEDNcAqztuM",
        "colab_type": "text"
      },
      "source": [
        "# Squares of a Sorted Array\n",
        "\n",
        "Given an array of integers A sorted in non-decreasing order, return an array of the squares of each number, also in sorted non-decreasing order.\n",
        "\n",
        " \n",
        "```\n",
        "Example 1:\n",
        "\n",
        "Input: [-4,-1,0,3,10]\n",
        "Output: [0,1,9,16,100]\n",
        "```\n",
        "\n",
        "```\n",
        "Example 2:\n",
        "\n",
        "Input: [-7,-3,2,3,11]\n",
        "Output: [4,9,9,49,121]\n",
        " ```\n",
        "\n",
        "Note:\n",
        "\n",
        "`1 <= A.length <= 10000`\n",
        "\n",
        "`-10000 <= A[i] <= 10000`\n",
        "\n",
        "`A` is sorted in non-decreasing order."
      ]
    },
    {
      "cell_type": "code",
      "metadata": {
        "id": "A7JWbWmuH8ar",
        "colab_type": "code",
        "colab": {}
      },
      "source": [
        "    def sortedSquares(self, A):\n",
        "        N = len(A)\n",
        "        # i, j: negative, positive parts\n",
        "        j = 0\n",
        "        while j < N and A[j] < 0:\n",
        "            j += 1\n",
        "        i = j - 1\n",
        "\n",
        "        ans = []\n",
        "        while 0 <= i and j < N:\n",
        "            if A[i]**2 < A[j]**2:\n",
        "                ans.append(A[i]**2)\n",
        "                i -= 1\n",
        "            else:\n",
        "                ans.append(A[j]**2)\n",
        "                j += 1\n",
        "\n",
        "        while i >= 0:\n",
        "            ans.append(A[i]**2)\n",
        "            i -= 1\n",
        "        while j < N:\n",
        "            ans.append(A[j]**2)\n",
        "            j += 1\n",
        "\n",
        "        return ans"
      ],
      "execution_count": 0,
      "outputs": []
    },
    {
      "cell_type": "code",
      "metadata": {
        "id": "UdivQtwqJkxM",
        "colab_type": "code",
        "colab": {}
      },
      "source": [
        ""
      ],
      "execution_count": 0,
      "outputs": []
    }
  ]
}