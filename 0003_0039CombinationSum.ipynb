{
  "nbformat": 4,
  "nbformat_minor": 0,
  "metadata": {
    "colab": {
      "name": "0003_0039CombinationSum.ipynb",
      "provenance": [],
      "authorship_tag": "ABX9TyP/TY76OtAodC+PvDhpKHdU",
      "include_colab_link": true
    },
    "kernelspec": {
      "name": "python3",
      "display_name": "Python 3"
    }
  },
  "cells": [
    {
      "cell_type": "markdown",
      "metadata": {
        "id": "view-in-github",
        "colab_type": "text"
      },
      "source": [
        "<a href=\"https://colab.research.google.com/github/happyrabbit/leetcode/blob/master/0003_0039CombinationSum.ipynb\" target=\"_parent\"><img src=\"https://colab.research.google.com/assets/colab-badge.svg\" alt=\"Open In Colab\"/></a>"
      ]
    },
    {
      "cell_type": "markdown",
      "metadata": {
        "id": "ZgHZsHiAWtnS",
        "colab_type": "text"
      },
      "source": [
        "# Combination Sum\n",
        "\n",
        "Given a set of candidate numbers (candidates) (without duplicates) and a target number (target), find all unique combinations in candidates where the candidate numbers sums to target.\n",
        "\n",
        "The same repeated number may be chosen from candidates unlimited number of times.\n",
        "\n",
        "Note:\n",
        "\n",
        "All numbers (including target) will be positive integers.\n",
        "The solution set must not contain duplicate combinations.\n",
        "\n",
        "Example 1:\n",
        "\n",
        "```\n",
        "Input: candidates = [2,3,6,7], target = 7,\n",
        "\n",
        "A solution set is:\n",
        "\n",
        "[\n",
        "  [7],\n",
        "  [2,2,3]\n",
        "]\n",
        "```\n",
        "\n",
        "Example 2:\n",
        "\n",
        "```\n",
        "Input: candidates = [2,3,5], target = 8,\n",
        "A solution set is:\n",
        "\n",
        "[\n",
        "  [2,2,2,2],\n",
        "  [2,3,3],\n",
        "  [3,5]\n",
        "]\n",
        "```"
      ]
    },
    {
      "cell_type": "code",
      "metadata": {
        "id": "9NZAUqlY9E53",
        "colab_type": "code",
        "colab": {}
      },
      "source": [
        "    def combinationSum(candidates, target):\n",
        "        candidates.sort()\n",
        "        ans = []\n",
        "        def helper(candidates, target, t):\n",
        "            if not target:\n",
        "                ans.append(t)\n",
        "                return\n",
        "            for i, num in enumerate(candidates):\n",
        "                if target >= num:\n",
        "                    helper(candidates[i:], target - num, t + [num])\n",
        "                else: break\n",
        "        helper(candidates, target, [])\n",
        "        return ans"
      ],
      "execution_count": 0,
      "outputs": []
    },
    {
      "cell_type": "code",
      "metadata": {
        "id": "pvoE86x79GsE",
        "colab_type": "code",
        "colab": {
          "base_uri": "https://localhost:8080/",
          "height": 34
        },
        "outputId": "e231765c-d5be-45ae-ec01-3c440515158e"
      },
      "source": [
        "combinationSum(candidates = [2,3,6,7], target = 7)"
      ],
      "execution_count": 3,
      "outputs": [
        {
          "output_type": "execute_result",
          "data": {
            "text/plain": [
              "[[2, 2, 3], [7]]"
            ]
          },
          "metadata": {
            "tags": []
          },
          "execution_count": 3
        }
      ]
    },
    {
      "cell_type": "code",
      "metadata": {
        "id": "hkIfJ5Ok9XRm",
        "colab_type": "code",
        "colab": {}
      },
      "source": [
        ""
      ],
      "execution_count": 0,
      "outputs": []
    }
  ]
}