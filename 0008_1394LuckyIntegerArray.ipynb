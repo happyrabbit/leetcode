{
  "nbformat": 4,
  "nbformat_minor": 0,
  "metadata": {
    "colab": {
      "name": "0008_1394LuckyIntegerArray.ipynb",
      "provenance": [],
      "authorship_tag": "ABX9TyPy7qJxkRkRJ8cWr8rqjOFY",
      "include_colab_link": true
    },
    "kernelspec": {
      "name": "python3",
      "display_name": "Python 3"
    }
  },
  "cells": [
    {
      "cell_type": "markdown",
      "metadata": {
        "id": "view-in-github",
        "colab_type": "text"
      },
      "source": [
        "<a href=\"https://colab.research.google.com/github/happyrabbit/leetcode/blob/master/0008_1394LuckyIntegerArray.ipynb\" target=\"_parent\"><img src=\"https://colab.research.google.com/assets/colab-badge.svg\" alt=\"Open In Colab\"/></a>"
      ]
    },
    {
      "cell_type": "markdown",
      "metadata": {
        "id": "xh3t9Q6JT5do",
        "colab_type": "text"
      },
      "source": [
        "# Find Lucky Integer in an Array\n",
        "\n",
        "Given an array of integers arr, a lucky integer is an integer which has a frequency in the array equal to its value.\n",
        "\n",
        "Return a lucky integer in the array. If there are multiple lucky integers return the largest of them. If there is no lucky integer return -1.\n",
        "\n",
        " \n",
        "```\n",
        "Example 1:\n",
        "\n",
        "Input: arr = [2,2,3,4]\n",
        "Output: 2\n",
        "Explanation: The only lucky number in the array is 2 because frequency[2] == 2.\n",
        "```\n",
        "\n",
        "```\n",
        "Example 2:\n",
        "\n",
        "Input: arr = [1,2,2,3,3,3]\n",
        "Output: 3\n",
        "Explanation: 1, 2 and 3 are all lucky numbers, return the largest of them.\n",
        "```\n",
        "\n",
        "```\n",
        "Example 3:\n",
        "\n",
        "Input: arr = [2,2,2,3,3]\n",
        "Output: -1\n",
        "Explanation: There are no lucky numbers in the array.\n",
        "```\n",
        "\n",
        "```\n",
        "Example 4:\n",
        "\n",
        "Input: arr = [5]\n",
        "Output: -1\n",
        "```\n",
        "\n",
        "```\n",
        "Example 5:\n",
        "\n",
        "Input: arr = [7,7,7,7,7,7,7]\n",
        "Output: 7\n",
        "```\n",
        "\n",
        "Constraints:\n",
        "\n",
        "`1 <= arr.length <= 500`\n",
        "\n",
        "`1 <= arr[i] <= 500`"
      ]
    },
    {
      "cell_type": "code",
      "metadata": {
        "id": "ivWeCzrrT4Kz",
        "colab_type": "code",
        "colab": {}
      },
      "source": [
        "class Solution:\n",
        "    def findLucky(self, arr: List[int]) -> int:\n",
        "        ans = {}\n",
        "        for i in range(len(arr)):\n",
        "            if arr[i] in ans:\n",
        "                ans[arr[i]] += 1\n",
        "            else:\n",
        "                ans[arr[i]] = 1\n",
        "        res = -1\n",
        "        for x in ans:\n",
        "            if ans[x] == x and x > res:\n",
        "                res = x\n",
        "        return(res)\n",
        "            "
      ],
      "execution_count": 0,
      "outputs": []
    }
  ]
}