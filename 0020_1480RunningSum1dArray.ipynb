{
  "nbformat": 4,
  "nbformat_minor": 0,
  "metadata": {
    "colab": {
      "name": "0020_1480RunningSum1dArray.ipynb",
      "provenance": [],
      "authorship_tag": "ABX9TyMzba4GqToL1+Thv04MoO7J",
      "include_colab_link": true
    },
    "kernelspec": {
      "name": "python3",
      "display_name": "Python 3"
    }
  },
  "cells": [
    {
      "cell_type": "markdown",
      "metadata": {
        "id": "view-in-github",
        "colab_type": "text"
      },
      "source": [
        "<a href=\"https://colab.research.google.com/github/happyrabbit/leetcode/blob/master/0020_1480RunningSum1dArray.ipynb\" target=\"_parent\"><img src=\"https://colab.research.google.com/assets/colab-badge.svg\" alt=\"Open In Colab\"/></a>"
      ]
    },
    {
      "cell_type": "markdown",
      "metadata": {
        "id": "ekYOHWqImuMG",
        "colab_type": "text"
      },
      "source": [
        "# Running Sum of 1d Array\n",
        "\n",
        "Given an array nums. We define a running sum of an array as `runningSum[i] = sum(nums[0]…nums[i])`.\n",
        "\n",
        "Return the running sum of nums.\n",
        "\n",
        " \n",
        "\n",
        "Example 1:\n",
        "\n",
        "```\n",
        "Input: nums = [1,2,3,4]\n",
        "Output: [1,3,6,10]\n",
        "Explanation: Running sum is obtained as follows: [1, 1+2, 1+2+3, 1+2+3+4].\n",
        "```\n",
        "\n",
        "Example 2:\n",
        "\n",
        "```\n",
        "Input: nums = [1,1,1,1,1]\n",
        "Output: [1,2,3,4,5]\n",
        "Explanation: Running sum is obtained as follows: [1, 1+1, 1+1+1, 1+1+1+1, 1+1+1+1+1].\n",
        "```\n",
        "\n",
        "Example 3:\n",
        "\n",
        "```\n",
        "Input: nums = [3,1,2,10,1]\n",
        "Output: [3,4,6,16,17]\n",
        "```\n",
        "\n",
        "Constraints:\n",
        "\n",
        "```\n",
        "1 <= nums.length <= 1000\n",
        "-10^6 <= nums[i] <= 10^6\n",
        "```"
      ]
    },
    {
      "cell_type": "code",
      "metadata": {
        "id": "8fIUVMxTmplS",
        "colab_type": "code",
        "colab": {}
      },
      "source": [
        "class Solution:\n",
        "    def runningSum(self, nums: List[int]) -> List[int]:\n",
        "        res = [nums[0]]\n",
        "        for i in range(len(nums)-1):\n",
        "            res.append(res[i] + nums[i+1])\n",
        "        return(res)"
      ],
      "execution_count": 0,
      "outputs": []
    },
    {
      "cell_type": "code",
      "metadata": {
        "id": "8IzkHlUpnbh9",
        "colab_type": "code",
        "colab": {}
      },
      "source": [
        ""
      ],
      "execution_count": 0,
      "outputs": []
    }
  ]
}