{
  "nbformat": 4,
  "nbformat_minor": 0,
  "metadata": {
    "colab": {
      "name": "0006_0938RangeSumBST.ipynb",
      "provenance": [],
      "authorship_tag": "ABX9TyNRO0vgohmJ7ldfNNzSL7GS",
      "include_colab_link": true
    },
    "kernelspec": {
      "name": "python3",
      "display_name": "Python 3"
    }
  },
  "cells": [
    {
      "cell_type": "markdown",
      "metadata": {
        "id": "view-in-github",
        "colab_type": "text"
      },
      "source": [
        "<a href=\"https://colab.research.google.com/github/happyrabbit/leetcode/blob/master/0006_0938RangeSumBST.ipynb\" target=\"_parent\"><img src=\"https://colab.research.google.com/assets/colab-badge.svg\" alt=\"Open In Colab\"/></a>"
      ]
    },
    {
      "cell_type": "markdown",
      "metadata": {
        "id": "yYeMSlWt4jE_",
        "colab_type": "text"
      },
      "source": [
        "# Range Sum of BST\n",
        "\n",
        "Given the root node of a binary search tree, return the sum of values of all nodes with value between L and R (inclusive).\n",
        "\n",
        "The binary search tree is guaranteed to have unique values.\n",
        "\n",
        " \n",
        "```\n",
        "Example 1:\n",
        "\n",
        "Input: root = [10,5,15,3,7,null,18], L = 7, R = 15\n",
        "Output: 32\n",
        "```\n",
        "\n",
        "```\n",
        "Example 2:\n",
        "\n",
        "Input: root = [10,5,15,3,7,13,18,1,null,6], L = 6, R = 10\n",
        "Output: 23\n",
        "```\n",
        "\n",
        "Note:\n",
        "\n",
        "The number of nodes in the tree is at most `10000`.\n",
        "\n",
        "The final answer is guaranteed to be less than `2^31`."
      ]
    },
    {
      "cell_type": "code",
      "metadata": {
        "id": "gfMQYkVJ4kvb",
        "colab_type": "code",
        "colab": {}
      },
      "source": [
        "# Definition for a binary tree node.\n",
        "# class TreeNode:\n",
        "#     def __init__(self, x):\n",
        "#         self.val = x\n",
        "#         self.left = None\n",
        "#         self.right = None\n",
        "\n",
        "class Solution:\n",
        "    def rangeSumBST(self, root: TreeNode, L: int, R: int) -> int:\n",
        "        def helper(node):\n",
        "            if node:\n",
        "                if L <= node.val <= R:\n",
        "                    self.ans += node.val\n",
        "                if L < node.val:\n",
        "                    helper(node.left)\n",
        "                if node.val < R:\n",
        "                    helper(node.right)\n",
        "        self.ans = 0\n",
        "        helper(root)\n",
        "        return(self.ans)"
      ],
      "execution_count": 0,
      "outputs": []
    }
  ]
}