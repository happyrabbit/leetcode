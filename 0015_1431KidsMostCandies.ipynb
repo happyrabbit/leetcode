{
  "nbformat": 4,
  "nbformat_minor": 0,
  "metadata": {
    "colab": {
      "name": "0015_1431KidsMostCandies.ipynb",
      "provenance": [],
      "authorship_tag": "ABX9TyNYptapU8q7Jnihslxc+z5x",
      "include_colab_link": true
    },
    "kernelspec": {
      "name": "python3",
      "display_name": "Python 3"
    }
  },
  "cells": [
    {
      "cell_type": "markdown",
      "metadata": {
        "id": "view-in-github",
        "colab_type": "text"
      },
      "source": [
        "<a href=\"https://colab.research.google.com/github/happyrabbit/leetcode/blob/master/0015_1431KidsMostCandies.ipynb\" target=\"_parent\"><img src=\"https://colab.research.google.com/assets/colab-badge.svg\" alt=\"Open In Colab\"/></a>"
      ]
    },
    {
      "cell_type": "markdown",
      "metadata": {
        "id": "2BD9-e14HxjR",
        "colab_type": "text"
      },
      "source": [
        "# Kids With the Greatest Number of Candies\n",
        "\n",
        "Given the array `candies` and the integer `extraCandies`, where `candies[i]` represents the number of candies that the _ith_ kid has.\n",
        "\n",
        "For each kid check if there is a way to distribute extraCandies among the kids such that he or she can have the greatest number of candies among them. Notice that multiple kids can have the greatest number of candies.\n",
        "\n",
        "Example 1:\n",
        "\n",
        "```\n",
        "Input: candies = [2,3,5,1,3], extraCandies = 3\n",
        "Output: [true,true,true,false,true] \n",
        "Explanation: \n",
        "Kid 1 has 2 candies and if he or she receives all extra candies (3) will have 5 candies --- the greatest number of candies among the kids. \n",
        "Kid 2 has 3 candies and if he or she receives at least 2 extra candies will have the greatest number of candies among the kids. \n",
        "Kid 3 has 5 candies and this is already the greatest number of candies among the kids. \n",
        "Kid 4 has 1 candy and even if he or she receives all extra candies will only have 4 candies. \n",
        "Kid 5 has 3 candies and if he or she receives at least 2 extra candies will have the greatest number of candies among the kids. \n",
        "```\n",
        "\n",
        "\n",
        "Example 2:\n",
        "\n",
        "```\n",
        "Input: candies = [4,2,1,1,2], extraCandies = 1\n",
        "Output: [true,false,false,false,false] \n",
        "Explanation: There is only 1 extra candy, therefore only kid 1 will have the greatest number of candies among the kids regardless of who takes the extra candy.\n",
        "```\n",
        "\n",
        "Example 3:\n",
        "\n",
        "```\n",
        "Input: candies = [12,1,12], extraCandies = 10\n",
        "Output: [true,false,true]\n",
        "```\n",
        "\n",
        "Constraints:\n",
        "\n",
        "`2 <= candies.length <= 100`\n",
        "\n",
        "`1 <= candies[i] <= 100`\n",
        "\n",
        "`1 <= extraCandies <= 50`"
      ]
    },
    {
      "cell_type": "code",
      "metadata": {
        "id": "bqitXbq-HtMI",
        "colab_type": "code",
        "colab": {}
      },
      "source": [
        "class Solution:\n",
        "    def kidsWithCandies(self, candies: List[int], extraCandies: int) -> List[bool]:\n",
        "        res = []\n",
        "        mc = max(candies)\n",
        "        for i in range(len(candies)):\n",
        "            res.append(candies[i] + extraCandies >= mc)\n",
        "        return(res)"
      ],
      "execution_count": 0,
      "outputs": []
    }
  ]
}