{
  "nbformat": 4,
  "nbformat_minor": 0,
  "metadata": {
    "colab": {
      "name": "0004_0709ToLowerCase.ipynb",
      "provenance": [],
      "authorship_tag": "ABX9TyPYOHYQh2AGN9puiHNZB7ol",
      "include_colab_link": true
    },
    "kernelspec": {
      "name": "python3",
      "display_name": "Python 3"
    }
  },
  "cells": [
    {
      "cell_type": "markdown",
      "metadata": {
        "id": "view-in-github",
        "colab_type": "text"
      },
      "source": [
        "<a href=\"https://colab.research.google.com/github/happyrabbit/leetcode/blob/master/0004_0709ToLowerCase.ipynb\" target=\"_parent\"><img src=\"https://colab.research.google.com/assets/colab-badge.svg\" alt=\"Open In Colab\"/></a>"
      ]
    },
    {
      "cell_type": "markdown",
      "metadata": {
        "id": "u7e5kvPAvxWQ",
        "colab_type": "text"
      },
      "source": [
        "# To Lower Case\n",
        "\n",
        "Implement function ToLowerCase() that has a string parameter str, and returns the same string in lowercase.\n",
        "\n",
        " \n",
        "```\n",
        "Example 1:\n",
        "\n",
        "Input: \"Hello\"\n",
        "Output: \"hello\"\n",
        "```\n",
        "\n",
        "```\n",
        "Example 2:\n",
        "\n",
        "Input: \"here\"\n",
        "Output: \"here\"\n",
        "```\n",
        "\n",
        "```\n",
        "Example 3:\n",
        "\n",
        "Input: \"LOVELY\"\n",
        "Output: \"lovely\"\n",
        "```"
      ]
    },
    {
      "cell_type": "code",
      "metadata": {
        "id": "6pkDkrMCuxlZ",
        "colab_type": "code",
        "colab": {}
      },
      "source": [
        "  # The ord() function returns an integer representing the Unicode character.\n",
        "  # print(ord('a'))    # 97\n",
        "  # print(ord('a'))    # 122\n",
        "  # print(ord('A'))    # 65\n",
        "  # print(ord('Z'))    # 90\n",
        "  \n",
        "def toLowerCase(str):\n",
        "  return \"\".join(chr(ord(c) + 32) if 65 <= ord(c) <= 90 else c for c in str)"
      ],
      "execution_count": 0,
      "outputs": []
    }
  ]
}