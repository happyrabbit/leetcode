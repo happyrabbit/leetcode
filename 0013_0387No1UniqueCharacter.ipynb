{
  "nbformat": 4,
  "nbformat_minor": 0,
  "metadata": {
    "colab": {
      "name": "0013_No1UniqueCharacter.ipynb",
      "provenance": [],
      "authorship_tag": "ABX9TyP3jtFsKO2yYNmvqJvV5BZD",
      "include_colab_link": true
    },
    "kernelspec": {
      "name": "python3",
      "display_name": "Python 3"
    }
  },
  "cells": [
    {
      "cell_type": "markdown",
      "metadata": {
        "id": "view-in-github",
        "colab_type": "text"
      },
      "source": [
        "<a href=\"https://colab.research.google.com/github/happyrabbit/leetcode/blob/master/0013_0387No1UniqueCharacter.ipynb\" target=\"_parent\"><img src=\"https://colab.research.google.com/assets/colab-badge.svg\" alt=\"Open In Colab\"/></a>"
      ]
    },
    {
      "cell_type": "markdown",
      "metadata": {
        "id": "cQ2TGamJnqlf",
        "colab_type": "text"
      },
      "source": [
        "# First Unique Character in a String\n",
        "\n",
        "Given a string, find the first non-repeating character in it and return it's index. If it doesn't exist, return -1.\n",
        "\n",
        "```\n",
        "Examples:\n",
        "\n",
        "s = \"leetcode\"\n",
        "return 0.\n",
        "```\n",
        "\n",
        "```\n",
        "s = \"loveleetcode\",\n",
        "return 2.\n",
        "```\n",
        "\n",
        "Note: You may assume the string contain only lowercase letters."
      ]
    },
    {
      "cell_type": "code",
      "metadata": {
        "id": "z2Pk5pC1TD16",
        "colab_type": "code",
        "colab": {}
      },
      "source": [
        "class Solution:\n",
        "    def firstUniqChar(self, s: str) -> int:\n",
        "        if len(s) == 0:\n",
        "            return(-1)\n",
        "        else:\n",
        "            res = {}\n",
        "            for i, c in enumerate(s):\n",
        "                if c not in res:\n",
        "                    res[c] = i\n",
        "                else:\n",
        "                    res[c] = -1     \n",
        "            res = list(res.values())    \n",
        "            i = 0\n",
        "            while i < len(res) -1:\n",
        "                if res[i] != -1:      \n",
        "                    break\n",
        "                else:\n",
        "                    i += 1    \n",
        "            return(res[i])"
      ],
      "execution_count": 0,
      "outputs": []
    }
  ]
}