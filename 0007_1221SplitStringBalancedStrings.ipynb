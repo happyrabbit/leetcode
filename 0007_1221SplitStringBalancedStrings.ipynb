{
  "nbformat": 4,
  "nbformat_minor": 0,
  "metadata": {
    "colab": {
      "name": "0007_1221SplitStringBalancedStrings.ipynb",
      "provenance": [],
      "authorship_tag": "ABX9TyOiZoOUMBcTov7kHqbVXp/L",
      "include_colab_link": true
    },
    "kernelspec": {
      "name": "python3",
      "display_name": "Python 3"
    }
  },
  "cells": [
    {
      "cell_type": "markdown",
      "metadata": {
        "id": "view-in-github",
        "colab_type": "text"
      },
      "source": [
        "<a href=\"https://colab.research.google.com/github/happyrabbit/leetcode/blob/master/0007_1221SplitStringBalancedStrings.ipynb\" target=\"_parent\"><img src=\"https://colab.research.google.com/assets/colab-badge.svg\" alt=\"Open In Colab\"/></a>"
      ]
    },
    {
      "cell_type": "markdown",
      "metadata": {
        "id": "APK_kkEf1BUV",
        "colab_type": "text"
      },
      "source": [
        "# Split a String in Balanced Strings\n",
        "\n",
        "Balanced strings are those who have equal quantity of 'L' and 'R' characters.\n",
        "\n",
        "Given a balanced string s split it in the maximum amount of balanced strings.\n",
        "\n",
        "Return the maximum amount of splitted balanced strings.\n",
        "\n",
        " \n",
        "```\n",
        "Example 1:\n",
        "\n",
        "Input: s = \"RLRRLLRLRL\"\n",
        "Output: 4\n",
        "Explanation: s can be split into \"RL\", \"RRLL\", \"RL\", \"RL\", each substring contains same number of 'L' and 'R'.\n",
        "```\n",
        "\n",
        "```\n",
        "Example 2:\n",
        "\n",
        "Input: s = \"RLLLLRRRLR\"\n",
        "Output: 3\n",
        "Explanation: s can be split into \"RL\", \"LLLRRR\", \"LR\", each substring contains same number of 'L' and 'R'.\n",
        "```\n",
        "\n",
        "```\n",
        "Example 3:\n",
        "\n",
        "Input: s = \"LLLLRRRR\"\n",
        "Output: 1\n",
        "Explanation: s can be split into \"LLLLRRRR\".\n",
        "```\n",
        "\n",
        "```\n",
        "Example 4:\n",
        "\n",
        "Input: s = \"RLRRRLLRLL\"\n",
        "Output: 2\n",
        "Explanation: s can be split into \"RL\", \"RRRLLRLL\", since each substring contains an equal number of 'L' and 'R'\n",
        " ```\n",
        "\n",
        "Constraints:\n",
        "\n",
        "`1 <= s.length <= 1000`\n",
        "\n",
        "`s[i] = 'L' or 'R'`"
      ]
    },
    {
      "cell_type": "code",
      "metadata": {
        "id": "fMrY2TDh09JT",
        "colab_type": "code",
        "colab": {}
      },
      "source": [
        "class Solution:\n",
        "    def balancedStringSplit(self, s: str) -> int:\n",
        "        res = cnt = 0\n",
        "        for c in s:\n",
        "            if c == 'L':\n",
        "                cnt += 1\n",
        "            else:\n",
        "                cnt -= 1\n",
        "            if cnt == 0:\n",
        "                res += 1\n",
        "        return res"
      ],
      "execution_count": 0,
      "outputs": []
    }
  ]
}