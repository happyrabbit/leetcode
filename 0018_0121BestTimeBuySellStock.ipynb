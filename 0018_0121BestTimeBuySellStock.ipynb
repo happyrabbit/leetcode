{
  "nbformat": 4,
  "nbformat_minor": 0,
  "metadata": {
    "colab": {
      "name": " 0018_0121BestTimeBuySellStock.ipynb",
      "provenance": [],
      "authorship_tag": "ABX9TyPFlenIPkX6CxzaU9bHKqip",
      "include_colab_link": true
    },
    "kernelspec": {
      "name": "python3",
      "display_name": "Python 3"
    }
  },
  "cells": [
    {
      "cell_type": "markdown",
      "metadata": {
        "id": "view-in-github",
        "colab_type": "text"
      },
      "source": [
        "<a href=\"https://colab.research.google.com/github/happyrabbit/leetcode/blob/master/0018_0121BestTimeBuySellStock.ipynb\" target=\"_parent\"><img src=\"https://colab.research.google.com/assets/colab-badge.svg\" alt=\"Open In Colab\"/></a>"
      ]
    },
    {
      "cell_type": "markdown",
      "metadata": {
        "id": "zOjxD4Lp8CtY",
        "colab_type": "text"
      },
      "source": [
        "# 121. Best Time to Buy and Sell Stock\n",
        "\n",
        "Say you have an array for which the ith element is the price of a given stock on day i.\n",
        "\n",
        "If you were only permitted to complete at most one transaction (i.e., buy one and sell one share of the stock), design an algorithm to find the maximum profit.\n",
        "\n",
        "Note that you cannot sell a stock before you buy one.\n",
        "\n",
        "Example 1:\n",
        "\n",
        "```\n",
        "Input: [7,1,5,3,6,4]\n",
        "Output: 5\n",
        "Explanation: Buy on day 2 (price = 1) and sell on day 5 (price = 6), profit = 6-1 = 5.\n",
        "             Not 7-1 = 6, as selling price needs to be larger than buying price.\n",
        "```\n",
        "\n",
        "Example 2:\n",
        "\n",
        "```\n",
        "Input: [7,6,4,3,1]\n",
        "Output: 0\n",
        "Explanation: In this case, no transaction is done, i.e. max profit = 0.\n",
        "```\n",
        "\n",
        "We need to find out the maximum difference (which will be the maximum profit) between two numbers in the given array. Also, the second number (selling price) must be larger than the first one (buying price).\n",
        "\n",
        "In formal terms, we need to find $\\max(\\text{prices[j]} - \\text{prices[i]})$, for every i and j such that j > i."
      ]
    },
    {
      "cell_type": "markdown",
      "metadata": {
        "id": "53koVG3Z8uXN",
        "colab_type": "text"
      },
      "source": [
        "## Approach 1: Brute Force\n",
        "\n",
        "Complexity Analysis\n",
        "\n",
        "Time complexity : $O(n^2)$. \n",
        "\n",
        "Loop runs $\\frac{n (n-1)}{2}$ times.\n",
        "\n",
        "Space complexity : O(1). Only one variable `profit` is used."
      ]
    },
    {
      "cell_type": "code",
      "metadata": {
        "id": "YHCMqeAp7OHK",
        "colab_type": "code",
        "colab": {}
      },
      "source": [
        "class Solution:\n",
        "    def maxProfit(self, prices: List[int]) -> int:\n",
        "        profit = 0\n",
        "        for p1 in range(len(prices) -1 ):\n",
        "            for p2 in range(p1+1, len(prices)):\n",
        "                if prices[p2] - prices[p1] > profit:\n",
        "                    profit = prices[p2] - prices[p1]\n",
        "        return(profit)"
      ],
      "execution_count": 0,
      "outputs": []
    },
    {
      "cell_type": "markdown",
      "metadata": {
        "id": "nwapGFq-9fOb",
        "colab_type": "text"
      },
      "source": [
        "## Approach 2: One Pass\n",
        "\n",
        "The points of interest are the peaks and valleys in the given graph. We need to find the largest peak following the smallest valley. We can maintain two variables - `minprice` and `profit` corresponding to the smallest valley and maximum profit (maximum difference between selling price and minprice) obtained so far respectively.\n",
        "\n",
        "Complexity Analysis\n",
        "\n",
        "Time complexity : O(n). Only a single pass is needed.\n",
        "\n",
        "Space complexity : O(1). Only two variables are used."
      ]
    },
    {
      "cell_type": "code",
      "metadata": {
        "id": "bNyQArbt8zp5",
        "colab_type": "code",
        "colab": {}
      },
      "source": [
        "class Solution:\n",
        "    def maxProfit(self, prices: List[int]) -> int:        \n",
        "        profit = 0\n",
        "        if len(prices) > 1:\n",
        "            minprice = prices[0]\n",
        "            for i in range(1, len(prices)):\n",
        "                if prices[i] < minprice:\n",
        "                    minprice = prices[i]\n",
        "                elif prices[i] - minprice > profit:\n",
        "                    profit =  prices[i] - minprice\n",
        "        return(profit)"
      ],
      "execution_count": 0,
      "outputs": []
    }
  ]
}