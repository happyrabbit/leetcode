{
  "nbformat": 4,
  "nbformat_minor": 0,
  "metadata": {
    "colab": {
      "name": "0010_1137TribonacciNumber.ipynb",
      "provenance": [],
      "authorship_tag": "ABX9TyMpXbOFTL64VhEXirio9RFN",
      "include_colab_link": true
    },
    "kernelspec": {
      "name": "python3",
      "display_name": "Python 3"
    }
  },
  "cells": [
    {
      "cell_type": "markdown",
      "metadata": {
        "id": "view-in-github",
        "colab_type": "text"
      },
      "source": [
        "<a href=\"https://colab.research.google.com/github/happyrabbit/leetcode/blob/master/0010_1137TribonacciNumber.ipynb\" target=\"_parent\"><img src=\"https://colab.research.google.com/assets/colab-badge.svg\" alt=\"Open In Colab\"/></a>"
      ]
    },
    {
      "cell_type": "markdown",
      "metadata": {
        "id": "5_adFJ6WNwNh",
        "colab_type": "text"
      },
      "source": [
        "# N-th Tribonacci Number\n",
        "\n",
        "The Tribonacci sequence Tn is defined as follows: \n",
        "\n",
        "```\n",
        "T0 = 0, T1 = 1, T2 = 1, and Tn+3 = Tn + Tn+1 + Tn+2 for n >= 0.\n",
        "```\n",
        "\n",
        "Given `n`, return the value of `Tn`.\n",
        "\n",
        " \n",
        "```\n",
        "Example 1:\n",
        "\n",
        "Input: n = 4\n",
        "Output: 4\n",
        "Explanation:\n",
        "T_3 = 0 + 1 + 1 = 2\n",
        "T_4 = 1 + 1 + 2 = 4\n",
        "```\n",
        "\n",
        "```\n",
        "Example 2:\n",
        "\n",
        "Input: n = 25\n",
        "Output: 1389537\n",
        "```\n",
        "\n",
        "Constraints:\n",
        "\n",
        "`0 <= n <= 37`\n",
        "\n",
        "The answer is guaranteed to fit within a 32-bit integer, ie. `answer <= 2^31 - 1`."
      ]
    },
    {
      "cell_type": "code",
      "metadata": {
        "id": "TGXHUg_eNvkC",
        "colab_type": "code",
        "colab": {}
      },
      "source": [
        "class Solution:\n",
        "    def tribonacci(self, n: int) -> int:\n",
        "        if n == 0:\n",
        "            return(0)\n",
        "        if n == 1:\n",
        "            return(1)\n",
        "        if n == 2:\n",
        "            return(1)\n",
        "        if n > 2:\n",
        "            i = 3\n",
        "            t0 = 0\n",
        "            t1 = 1\n",
        "            t2 = 1\n",
        "            while i <= n:\n",
        "                ans = t0 + t1 + t2\n",
        "                t0 = t1\n",
        "                t1 = t2\n",
        "                t2 = ans\n",
        "                i += 1\n",
        "            return(ans)"
      ],
      "execution_count": 0,
      "outputs": []
    }
  ]
}